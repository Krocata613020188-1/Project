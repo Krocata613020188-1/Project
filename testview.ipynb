{
  "nbformat": 4,
  "nbformat_minor": 0,
  "metadata": {
    "colab": {
      "name": "testview.ipynb",
      "provenance": [],
      "mount_file_id": "18nqyMOCmvfmqVl19L3ABzQw-KQXCESAV",
      "authorship_tag": "ABX9TyMgYVdBy6AeXKHx9Vb9Z1Oq",
      "include_colab_link": true
    },
    "kernelspec": {
      "name": "python3",
      "display_name": "Python 3"
    },
    "language_info": {
      "name": "python"
    },
    "accelerator": "GPU"
  },
  "cells": [
    {
      "cell_type": "markdown",
      "metadata": {
        "id": "view-in-github",
        "colab_type": "text"
      },
      "source": [
        "<a href=\"https://colab.research.google.com/github/Krocata613020188-1/Project/blob/main/testview.ipynb\" target=\"_parent\"><img src=\"https://colab.research.google.com/assets/colab-badge.svg\" alt=\"Open In Colab\"/></a>"
      ]
    },
    {
      "cell_type": "code",
      "execution_count": 1,
      "metadata": {
        "colab": {
          "base_uri": "https://localhost:8080/"
        },
        "id": "UAx4rKGEjvSI",
        "outputId": "cac05c05-c10b-4398-bbab-8f066e61e52a"
      },
      "outputs": [
        {
          "output_type": "stream",
          "name": "stdout",
          "text": [
            "  % Total    % Received % Xferd  Average Speed   Time    Time     Time  Current\n",
            "                                 Dload  Upload   Total   Spent    Left  Speed\n",
            "100   118    0   118    0     0    506      0 --:--:-- --:--:-- --:--:--   504\n",
            "100  404k    0  404k    0     0   756k      0 --:--:-- --:--:-- --:--:--  756k\n",
            "Collecting git+https://github.com/facebookresearch/pytorch3d.git@stable\n",
            "  Cloning https://github.com/facebookresearch/pytorch3d.git (to revision stable) to /tmp/pip-req-build-bri0k3xf\n",
            "  Running command git clone -q https://github.com/facebookresearch/pytorch3d.git /tmp/pip-req-build-bri0k3xf\n",
            "  Running command git checkout -q 9585a58d10cb2efcd159b058fa4af914203c1d0d\n",
            "Collecting fvcore\n",
            "  Downloading fvcore-0.1.5.post20211023.tar.gz (49 kB)\n",
            "\u001b[K     |████████████████████████████████| 49 kB 5.8 MB/s \n",
            "\u001b[?25hCollecting iopath\n",
            "  Downloading iopath-0.1.9-py3-none-any.whl (27 kB)\n",
            "Requirement already satisfied: numpy in /usr/local/lib/python3.7/dist-packages (from fvcore->pytorch3d==0.6.0) (1.19.5)\n",
            "Collecting yacs>=0.1.6\n",
            "  Downloading yacs-0.1.8-py3-none-any.whl (14 kB)\n",
            "Collecting pyyaml>=5.1\n",
            "  Downloading PyYAML-6.0-cp37-cp37m-manylinux_2_5_x86_64.manylinux1_x86_64.manylinux_2_12_x86_64.manylinux2010_x86_64.whl (596 kB)\n",
            "\u001b[K     |████████████████████████████████| 596 kB 11.3 MB/s \n",
            "\u001b[?25hRequirement already satisfied: tqdm in /usr/local/lib/python3.7/dist-packages (from fvcore->pytorch3d==0.6.0) (4.62.3)\n",
            "Requirement already satisfied: termcolor>=1.1 in /usr/local/lib/python3.7/dist-packages (from fvcore->pytorch3d==0.6.0) (1.1.0)\n",
            "Requirement already satisfied: Pillow in /usr/local/lib/python3.7/dist-packages (from fvcore->pytorch3d==0.6.0) (7.1.2)\n",
            "Requirement already satisfied: tabulate in /usr/local/lib/python3.7/dist-packages (from fvcore->pytorch3d==0.6.0) (0.8.9)\n",
            "Collecting portalocker\n",
            "  Downloading portalocker-2.3.2-py2.py3-none-any.whl (15 kB)\n",
            "Building wheels for collected packages: pytorch3d, fvcore\n",
            "  Building wheel for pytorch3d (setup.py) ... \u001b[?25l\u001b[?25hdone\n",
            "  Created wheel for pytorch3d: filename=pytorch3d-0.6.0-cp37-cp37m-linux_x86_64.whl size=30319984 sha256=7bb2e53f3efbb0956d2395bb2948cd7240fb6d1398ff258162638fe142395fad\n",
            "  Stored in directory: /tmp/pip-ephem-wheel-cache-bfx6dsoe/wheels/4c/03/f0/326bb241eb86a155a12f217c81e163fbba48424bb84fa22074\n",
            "  Building wheel for fvcore (setup.py) ... \u001b[?25l\u001b[?25hdone\n",
            "  Created wheel for fvcore: filename=fvcore-0.1.5.post20211023-py3-none-any.whl size=60947 sha256=11524558819959c9dcfd55d9f5211f72b70ebaadcb5fd08cdb9be487b6a4ec0b\n",
            "  Stored in directory: /root/.cache/pip/wheels/16/98/fc/252d62cab6263c719120e06b28f3378af59b52ce7a20e81852\n",
            "Successfully built pytorch3d fvcore\n",
            "Installing collected packages: pyyaml, portalocker, yacs, iopath, fvcore, pytorch3d\n",
            "  Attempting uninstall: pyyaml\n",
            "    Found existing installation: PyYAML 3.13\n",
            "    Uninstalling PyYAML-3.13:\n",
            "      Successfully uninstalled PyYAML-3.13\n",
            "Successfully installed fvcore-0.1.5.post20211023 iopath-0.1.9 portalocker-2.3.2 pytorch3d-0.6.0 pyyaml-6.0 yacs-0.1.8\n"
          ]
        }
      ],
      "source": [
        "import os\n",
        "import sys\n",
        "import torch\n",
        "import numpy as np\n",
        "import json\n",
        "if torch.__version__=='1.6.0+cu101' and sys.platform.startswith('linux'):\n",
        "    !pip install pytorch3d\n",
        "else:\n",
        "    need_pytorch3d=False\n",
        "    try:\n",
        "        import pytorch3d\n",
        "    except ModuleNotFoundError:\n",
        "        need_pytorch3d=True\n",
        "    if need_pytorch3d:\n",
        "        !curl -LO https://github.com/NVIDIA/cub/archive/1.10.0.tar.gz\n",
        "        !tar xzf 1.10.0.tar.gz\n",
        "        os.environ[\"CUB_HOME\"] = os.getcwd() + \"/cub-1.10.0\"\n",
        "        !pip install 'git+https://github.com/facebookresearch/pytorch3d.git@stable'"
      ]
    },
    {
      "cell_type": "code",
      "source": [
        "!pip install utils"
      ],
      "metadata": {
        "colab": {
          "base_uri": "https://localhost:8080/"
        },
        "id": "xQ60w4RSnuLC",
        "outputId": "80824ee1-a0d9-41f6-edf4-882a708e7f75"
      },
      "execution_count": 2,
      "outputs": [
        {
          "output_type": "stream",
          "name": "stdout",
          "text": [
            "Collecting utils\n",
            "  Downloading utils-1.0.1-py2.py3-none-any.whl (21 kB)\n",
            "Installing collected packages: utils\n",
            "Successfully installed utils-1.0.1\n"
          ]
        }
      ]
    },
    {
      "cell_type": "code",
      "source": [
        "import matplotlib.pyplot as plt\n",
        "from skimage.io import imread\n",
        "from utils import *\n",
        "\n",
        "# Util function for loading meshes\n",
        "from pytorch3d.io import load_obj\n",
        "\n",
        "# Data structures and functions for rendering\n",
        "from pytorch3d.structures import Meshes\n",
        "from pytorch3d.renderer import (\n",
        "    look_at_view_transform,\n",
        "    FoVPerspectiveCameras, \n",
        "    FoVOrthographicCameras, \n",
        "    Materials, \n",
        "    RasterizationSettings, \n",
        "    MeshRenderer, \n",
        "    MeshRasterizer,  \n",
        "    SoftPhongShader,\n",
        "    TexturesVertex,\n",
        "    TexturesAtlas,\n",
        "    PointsRenderer,\n",
        "    PointsRasterizationSettings,\n",
        "    PointsRasterizer\n",
        ")"
      ],
      "metadata": {
        "id": "Gf-OcZpOkhW4"
      },
      "execution_count": 3,
      "outputs": []
    },
    {
      "cell_type": "code",
      "source": [
        "# Set our device:\n",
        "if torch.cuda.is_available():\n",
        "    device = torch.device(\"cuda:0\")\n",
        "    torch.cuda.set_device(device)\n",
        "else:\n",
        "    device = torch.device(\"cpu\")"
      ],
      "metadata": {
        "id": "ckiNpuo4oRbG"
      },
      "execution_count": 4,
      "outputs": []
    },
    {
      "cell_type": "code",
      "source": [
        "!pip install Params"
      ],
      "metadata": {
        "colab": {
          "base_uri": "https://localhost:8080/"
        },
        "id": "uId5Ib62si5j",
        "outputId": "c183023d-1aa9-4b98-f24e-8dbe9c50cbcf"
      },
      "execution_count": 5,
      "outputs": [
        {
          "output_type": "stream",
          "name": "stdout",
          "text": [
            "Collecting Params\n",
            "  Downloading params-0.9.0-py3-none-any.whl (11 kB)\n",
            "Requirement already satisfied: six in /usr/local/lib/python3.7/dist-packages (from Params) (1.15.0)\n",
            "Installing collected packages: Params\n",
            "Successfully installed Params-0.9.0\n"
          ]
        }
      ]
    },
    {
      "cell_type": "code",
      "source": [
        "obj_filename1 =  \"/content/drive/MyDrive/pytorch3d-renderer-main/data/capsule/capsule.obj\""
      ],
      "metadata": {
        "id": "Yf4IaT2K1Lc2"
      },
      "execution_count": 6,
      "outputs": []
    },
    {
      "cell_type": "code",
      "source": [
        "obj_filename2 =  \"/content/drive/MyDrive/pytorch3d-renderer-main/data/ID1.obj\""
      ],
      "metadata": {
        "id": "-ygJnd6Z6WTd"
      },
      "execution_count": 7,
      "outputs": []
    },
    {
      "cell_type": "code",
      "source": [
        "obj_filename1"
      ],
      "metadata": {
        "id": "xRFGejt-1Ok6"
      },
      "execution_count": null,
      "outputs": []
    },
    {
      "cell_type": "code",
      "source": [
        "params = ({\n",
        "\"image_size\": 256,\n",
        "\"camera_dist\": 3,   \n",
        "\"elevation\": 0,\n",
        "\"azim_angle\": 0,\n",
        "\"obj_filename\": \"/content/drive/MyDrive/pytorch3d-renderer-main/data/capsule/capsule.obj\"\n",
        "})"
      ],
      "metadata": {
        "id": "FaPP6SWjoSv9"
      },
      "execution_count": null,
      "outputs": []
    },
    {
      "cell_type": "code",
      "source": [
        "obj_filename"
      ],
      "metadata": {
        "colab": {
          "base_uri": "https://localhost:8080/"
        },
        "id": "dOSIcrEKx3IZ",
        "outputId": "376aa4f2-de18-4b81-8539-80f85107dd89"
      },
      "execution_count": null,
      "outputs": [
        {
          "output_type": "execute_result",
          "data": {
            "text/plain": [
              "{'azim_angle': 0,\n",
              " 'camera_dist': 3,\n",
              " 'elevation': 0,\n",
              " 'image_size': 256,\n",
              " 'obj_filename': '/content/drive/MyDrive/pytorch3d-renderer-main/data/capsule/capsule.obj'}"
            ]
          },
          "metadata": {},
          "execution_count": 34
        }
      ]
    },
    {
      "cell_type": "code",
      "source": [
        "# Get vertices, faces, and auxiliary information:\n",
        "verts, faces, aux = load_obj(\n",
        "    obj_filename2,\n",
        "    device=device,\n",
        "    load_textures=True,\n",
        "    create_texture_atlas=True,\n",
        "    texture_atlas_size=4,\n",
        "    texture_wrap=\"repeat\"\n",
        "     )\n",
        "\n",
        "# Create a textures object\n",
        "atlas = aux.texture_atlas\n",
        "\n",
        "# Initialize the mesh with vertices, faces, and textures.\n",
        "# Created Meshes object\n",
        "capsule_mesh = Meshes(\n",
        "    verts=[verts],\n",
        "    faces=[faces.verts_idx],\n",
        "    textures=TexturesAtlas(atlas=[atlas]),)"
      ],
      "metadata": {
        "colab": {
          "base_uri": "https://localhost:8080/"
        },
        "id": "1SQTR3U1wwaN",
        "outputId": "5b723d47-2baf-4394-aa2a-bca19fbcc620"
      },
      "execution_count": 8,
      "outputs": [
        {
          "output_type": "stream",
          "name": "stderr",
          "text": [
            "/usr/local/lib/python3.7/dist-packages/pytorch3d/io/obj_io.py:533: UserWarning: Mtl file does not exist: /content/drive/MyDrive/pytorch3d-renderer-main/data/Mercedes Benz GLS 580.mtl\n",
            "  warnings.warn(f\"Mtl file does not exist: {f}\")\n"
          ]
        }
      ]
    },
    {
      "cell_type": "code",
      "source": [
        "print('We have {0} vertices and {1} faces.'.format(verts.shape[0], faces.verts_idx.shape[0]))"
      ],
      "metadata": {
        "colab": {
          "base_uri": "https://localhost:8080/"
        },
        "id": "zNFdbBaQ1j1T",
        "outputId": "15ff99b9-b269-4780-ddd0-fec143856a9b"
      },
      "execution_count": 9,
      "outputs": [
        {
          "output_type": "stream",
          "name": "stdout",
          "text": [
            "We have 332922 vertices and 192985 faces.\n"
          ]
        }
      ]
    },
    {
      "cell_type": "code",
      "source": [
        "# Initialize the camera with camera distance, elevation, and azimuth angle\n",
        "R, T = look_at_view_transform(dist = 0, elev = \n",
        "                              0, azim = 0) \n",
        "cameras = FoVPerspectiveCameras(device=device, R=R, T=T)\n",
        "\n",
        "# Here we set the output image to be of size 256 x 256 based on config.json \n",
        "raster_settings = RasterizationSettings(\n",
        "    image_size = 1024, \n",
        "    blur_radius = 0.0, \n",
        "    faces_per_pixel = 1, \n",
        ")\n",
        "\n",
        "# Initialize rasterizer by using a MeshRasterizer class\n",
        "rasterizer = MeshRasterizer(\n",
        "        cameras=cameras, \n",
        "        raster_settings=raster_settings\n",
        "    )"
      ],
      "metadata": {
        "id": "Uza7ILsD1tuv"
      },
      "execution_count": 10,
      "outputs": []
    },
    {
      "cell_type": "code",
      "source": [
        "# The textured phong shader interpolates the texture uv coordinates for \n",
        "# each vertex, and samples from a texture image.\n",
        "shader = SoftPhongShader(device = device, cameras = cameras)\n",
        "\n",
        "# Create a mesh renderer by composing a rasterizer and a shader\n",
        "renderer = MeshRenderer(rasterizer, shader)"
      ],
      "metadata": {
        "id": "RCJpzn7R2A4i"
      },
      "execution_count": 13,
      "outputs": []
    },
    {
      "cell_type": "code",
      "source": [
        "# Render Meshes object\n",
        "image = renderer(capsule_mesh)\n",
        "# Plot rendered image\n",
        "plt.figure(figsize=(10, 10))\n",
        "plt.imshow(image[0, ..., :3].cpu().numpy())\n",
        "plt.grid(\"off\");\n",
        "plt.axis(\"off\");"
      ],
      "metadata": {
        "colab": {
          "base_uri": "https://localhost:8080/",
          "height": 415
        },
        "id": "Se_o06FF2C28",
        "outputId": "bd21c54e-36de-4674-adc7-856d30803703"
      },
      "execution_count": 46,
      "outputs": [
        {
          "output_type": "stream",
          "name": "stderr",
          "text": [
            "/usr/local/lib/python3.7/dist-packages/pytorch3d/transforms/transform3d.py:782: UserWarning: R is not a valid rotation matrix\n",
            "  warnings.warn(msg)\n"
          ]
        },
        {
          "output_type": "error",
          "ename": "RuntimeError",
          "evalue": "ignored",
          "traceback": [
            "\u001b[0;31m---------------------------------------------------------------------------\u001b[0m",
            "\u001b[0;31mRuntimeError\u001b[0m                              Traceback (most recent call last)",
            "\u001b[0;32m<ipython-input-46-ab8328baea92>\u001b[0m in \u001b[0;36m<module>\u001b[0;34m()\u001b[0m\n\u001b[1;32m      1\u001b[0m \u001b[0;31m# Render Meshes object\u001b[0m\u001b[0;34m\u001b[0m\u001b[0;34m\u001b[0m\u001b[0;34m\u001b[0m\u001b[0m\n\u001b[0;32m----> 2\u001b[0;31m \u001b[0mimage\u001b[0m \u001b[0;34m=\u001b[0m \u001b[0mrenderer\u001b[0m\u001b[0;34m(\u001b[0m\u001b[0mcapsule_mesh\u001b[0m\u001b[0;34m)\u001b[0m\u001b[0;34m\u001b[0m\u001b[0;34m\u001b[0m\u001b[0m\n\u001b[0m\u001b[1;32m      3\u001b[0m \u001b[0;31m# Plot rendered image\u001b[0m\u001b[0;34m\u001b[0m\u001b[0;34m\u001b[0m\u001b[0;34m\u001b[0m\u001b[0m\n\u001b[1;32m      4\u001b[0m \u001b[0mplt\u001b[0m\u001b[0;34m.\u001b[0m\u001b[0mfigure\u001b[0m\u001b[0;34m(\u001b[0m\u001b[0mfigsize\u001b[0m\u001b[0;34m=\u001b[0m\u001b[0;34m(\u001b[0m\u001b[0;36m10\u001b[0m\u001b[0;34m,\u001b[0m \u001b[0;36m10\u001b[0m\u001b[0;34m)\u001b[0m\u001b[0;34m)\u001b[0m\u001b[0;34m\u001b[0m\u001b[0;34m\u001b[0m\u001b[0m\n\u001b[1;32m      5\u001b[0m \u001b[0mplt\u001b[0m\u001b[0;34m.\u001b[0m\u001b[0mimshow\u001b[0m\u001b[0;34m(\u001b[0m\u001b[0mimage\u001b[0m\u001b[0;34m[\u001b[0m\u001b[0;36m0\u001b[0m\u001b[0;34m,\u001b[0m \u001b[0;34m...\u001b[0m\u001b[0;34m,\u001b[0m \u001b[0;34m:\u001b[0m\u001b[0;36m3\u001b[0m\u001b[0;34m]\u001b[0m\u001b[0;34m.\u001b[0m\u001b[0mcpu\u001b[0m\u001b[0;34m(\u001b[0m\u001b[0;34m)\u001b[0m\u001b[0;34m.\u001b[0m\u001b[0mnumpy\u001b[0m\u001b[0;34m(\u001b[0m\u001b[0;34m)\u001b[0m\u001b[0;34m)\u001b[0m\u001b[0;34m\u001b[0m\u001b[0;34m\u001b[0m\u001b[0m\n",
            "\u001b[0;32m/usr/local/lib/python3.7/dist-packages/torch/nn/modules/module.py\u001b[0m in \u001b[0;36m_call_impl\u001b[0;34m(self, *input, **kwargs)\u001b[0m\n\u001b[1;32m   1100\u001b[0m         if not (self._backward_hooks or self._forward_hooks or self._forward_pre_hooks or _global_backward_hooks\n\u001b[1;32m   1101\u001b[0m                 or _global_forward_hooks or _global_forward_pre_hooks):\n\u001b[0;32m-> 1102\u001b[0;31m             \u001b[0;32mreturn\u001b[0m \u001b[0mforward_call\u001b[0m\u001b[0;34m(\u001b[0m\u001b[0;34m*\u001b[0m\u001b[0minput\u001b[0m\u001b[0;34m,\u001b[0m \u001b[0;34m**\u001b[0m\u001b[0mkwargs\u001b[0m\u001b[0;34m)\u001b[0m\u001b[0;34m\u001b[0m\u001b[0;34m\u001b[0m\u001b[0m\n\u001b[0m\u001b[1;32m   1103\u001b[0m         \u001b[0;31m# Do not call functions when jit is used\u001b[0m\u001b[0;34m\u001b[0m\u001b[0;34m\u001b[0m\u001b[0;34m\u001b[0m\u001b[0m\n\u001b[1;32m   1104\u001b[0m         \u001b[0mfull_backward_hooks\u001b[0m\u001b[0;34m,\u001b[0m \u001b[0mnon_full_backward_hooks\u001b[0m \u001b[0;34m=\u001b[0m \u001b[0;34m[\u001b[0m\u001b[0;34m]\u001b[0m\u001b[0;34m,\u001b[0m \u001b[0;34m[\u001b[0m\u001b[0;34m]\u001b[0m\u001b[0;34m\u001b[0m\u001b[0;34m\u001b[0m\u001b[0m\n",
            "\u001b[0;32m/usr/local/lib/python3.7/dist-packages/pytorch3d/renderer/mesh/renderer.py\u001b[0m in \u001b[0;36mforward\u001b[0;34m(self, meshes_world, **kwargs)\u001b[0m\n\u001b[1;32m     58\u001b[0m         \"\"\"\n\u001b[1;32m     59\u001b[0m         \u001b[0mfragments\u001b[0m \u001b[0;34m=\u001b[0m \u001b[0mself\u001b[0m\u001b[0;34m.\u001b[0m\u001b[0mrasterizer\u001b[0m\u001b[0;34m(\u001b[0m\u001b[0mmeshes_world\u001b[0m\u001b[0;34m,\u001b[0m \u001b[0;34m**\u001b[0m\u001b[0mkwargs\u001b[0m\u001b[0;34m)\u001b[0m\u001b[0;34m\u001b[0m\u001b[0;34m\u001b[0m\u001b[0m\n\u001b[0;32m---> 60\u001b[0;31m         \u001b[0mimages\u001b[0m \u001b[0;34m=\u001b[0m \u001b[0mself\u001b[0m\u001b[0;34m.\u001b[0m\u001b[0mshader\u001b[0m\u001b[0;34m(\u001b[0m\u001b[0mfragments\u001b[0m\u001b[0;34m,\u001b[0m \u001b[0mmeshes_world\u001b[0m\u001b[0;34m,\u001b[0m \u001b[0;34m**\u001b[0m\u001b[0mkwargs\u001b[0m\u001b[0;34m)\u001b[0m\u001b[0;34m\u001b[0m\u001b[0;34m\u001b[0m\u001b[0m\n\u001b[0m\u001b[1;32m     61\u001b[0m \u001b[0;34m\u001b[0m\u001b[0m\n\u001b[1;32m     62\u001b[0m         \u001b[0;32mreturn\u001b[0m \u001b[0mimages\u001b[0m\u001b[0;34m\u001b[0m\u001b[0;34m\u001b[0m\u001b[0m\n",
            "\u001b[0;32m/usr/local/lib/python3.7/dist-packages/torch/nn/modules/module.py\u001b[0m in \u001b[0;36m_call_impl\u001b[0;34m(self, *input, **kwargs)\u001b[0m\n\u001b[1;32m   1100\u001b[0m         if not (self._backward_hooks or self._forward_hooks or self._forward_pre_hooks or _global_backward_hooks\n\u001b[1;32m   1101\u001b[0m                 or _global_forward_hooks or _global_forward_pre_hooks):\n\u001b[0;32m-> 1102\u001b[0;31m             \u001b[0;32mreturn\u001b[0m \u001b[0mforward_call\u001b[0m\u001b[0;34m(\u001b[0m\u001b[0;34m*\u001b[0m\u001b[0minput\u001b[0m\u001b[0;34m,\u001b[0m \u001b[0;34m**\u001b[0m\u001b[0mkwargs\u001b[0m\u001b[0;34m)\u001b[0m\u001b[0;34m\u001b[0m\u001b[0;34m\u001b[0m\u001b[0m\n\u001b[0m\u001b[1;32m   1103\u001b[0m         \u001b[0;31m# Do not call functions when jit is used\u001b[0m\u001b[0;34m\u001b[0m\u001b[0;34m\u001b[0m\u001b[0;34m\u001b[0m\u001b[0m\n\u001b[1;32m   1104\u001b[0m         \u001b[0mfull_backward_hooks\u001b[0m\u001b[0;34m,\u001b[0m \u001b[0mnon_full_backward_hooks\u001b[0m \u001b[0;34m=\u001b[0m \u001b[0;34m[\u001b[0m\u001b[0;34m]\u001b[0m\u001b[0;34m,\u001b[0m \u001b[0;34m[\u001b[0m\u001b[0;34m]\u001b[0m\u001b[0;34m\u001b[0m\u001b[0;34m\u001b[0m\u001b[0m\n",
            "\u001b[0;32m/usr/local/lib/python3.7/dist-packages/pytorch3d/renderer/mesh/shader.py\u001b[0m in \u001b[0;36mforward\u001b[0;34m(self, fragments, meshes, **kwargs)\u001b[0m\n\u001b[1;32m    153\u001b[0m             \u001b[0mlights\u001b[0m\u001b[0;34m=\u001b[0m\u001b[0mlights\u001b[0m\u001b[0;34m,\u001b[0m\u001b[0;34m\u001b[0m\u001b[0;34m\u001b[0m\u001b[0m\n\u001b[1;32m    154\u001b[0m             \u001b[0mcameras\u001b[0m\u001b[0;34m=\u001b[0m\u001b[0mcameras\u001b[0m\u001b[0;34m,\u001b[0m\u001b[0;34m\u001b[0m\u001b[0;34m\u001b[0m\u001b[0m\n\u001b[0;32m--> 155\u001b[0;31m             \u001b[0mmaterials\u001b[0m\u001b[0;34m=\u001b[0m\u001b[0mmaterials\u001b[0m\u001b[0;34m,\u001b[0m\u001b[0;34m\u001b[0m\u001b[0;34m\u001b[0m\u001b[0m\n\u001b[0m\u001b[1;32m    156\u001b[0m         )\n\u001b[1;32m    157\u001b[0m         \u001b[0mznear\u001b[0m \u001b[0;34m=\u001b[0m \u001b[0mkwargs\u001b[0m\u001b[0;34m.\u001b[0m\u001b[0mget\u001b[0m\u001b[0;34m(\u001b[0m\u001b[0;34m\"znear\"\u001b[0m\u001b[0;34m,\u001b[0m \u001b[0mgetattr\u001b[0m\u001b[0;34m(\u001b[0m\u001b[0mcameras\u001b[0m\u001b[0;34m,\u001b[0m \u001b[0;34m\"znear\"\u001b[0m\u001b[0;34m,\u001b[0m \u001b[0;36m1.0\u001b[0m\u001b[0;34m)\u001b[0m\u001b[0;34m)\u001b[0m\u001b[0;34m\u001b[0m\u001b[0;34m\u001b[0m\u001b[0m\n",
            "\u001b[0;32m/usr/local/lib/python3.7/dist-packages/pytorch3d/renderer/mesh/shading.py\u001b[0m in \u001b[0;36mphong_shading\u001b[0;34m(meshes, fragments, lights, cameras, materials, texels)\u001b[0m\n\u001b[1;32m     89\u001b[0m     )\n\u001b[1;32m     90\u001b[0m     ambient, diffuse, specular = _apply_lighting(\n\u001b[0;32m---> 91\u001b[0;31m         \u001b[0mpixel_coords\u001b[0m\u001b[0;34m,\u001b[0m \u001b[0mpixel_normals\u001b[0m\u001b[0;34m,\u001b[0m \u001b[0mlights\u001b[0m\u001b[0;34m,\u001b[0m \u001b[0mcameras\u001b[0m\u001b[0;34m,\u001b[0m \u001b[0mmaterials\u001b[0m\u001b[0;34m\u001b[0m\u001b[0;34m\u001b[0m\u001b[0m\n\u001b[0m\u001b[1;32m     92\u001b[0m     )\n\u001b[1;32m     93\u001b[0m     \u001b[0mcolors\u001b[0m \u001b[0;34m=\u001b[0m \u001b[0;34m(\u001b[0m\u001b[0mambient\u001b[0m \u001b[0;34m+\u001b[0m \u001b[0mdiffuse\u001b[0m\u001b[0;34m)\u001b[0m \u001b[0;34m*\u001b[0m \u001b[0mtexels\u001b[0m \u001b[0;34m+\u001b[0m \u001b[0mspecular\u001b[0m\u001b[0;34m\u001b[0m\u001b[0;34m\u001b[0m\u001b[0m\n",
            "\u001b[0;32m/usr/local/lib/python3.7/dist-packages/pytorch3d/renderer/mesh/shading.py\u001b[0m in \u001b[0;36m_apply_lighting\u001b[0;34m(points, normals, lights, cameras, materials)\u001b[0m\n\u001b[1;32m     35\u001b[0m         \u001b[0mpoints\u001b[0m\u001b[0;34m=\u001b[0m\u001b[0mpoints\u001b[0m\u001b[0;34m,\u001b[0m\u001b[0;34m\u001b[0m\u001b[0;34m\u001b[0m\u001b[0m\n\u001b[1;32m     36\u001b[0m         \u001b[0mcamera_position\u001b[0m\u001b[0;34m=\u001b[0m\u001b[0mcameras\u001b[0m\u001b[0;34m.\u001b[0m\u001b[0mget_camera_center\u001b[0m\u001b[0;34m(\u001b[0m\u001b[0;34m)\u001b[0m\u001b[0;34m,\u001b[0m\u001b[0;34m\u001b[0m\u001b[0;34m\u001b[0m\u001b[0m\n\u001b[0;32m---> 37\u001b[0;31m         \u001b[0mshininess\u001b[0m\u001b[0;34m=\u001b[0m\u001b[0mmaterials\u001b[0m\u001b[0;34m.\u001b[0m\u001b[0mshininess\u001b[0m\u001b[0;34m,\u001b[0m\u001b[0;34m\u001b[0m\u001b[0;34m\u001b[0m\u001b[0m\n\u001b[0m\u001b[1;32m     38\u001b[0m     )\n\u001b[1;32m     39\u001b[0m     \u001b[0mambient_color\u001b[0m \u001b[0;34m=\u001b[0m \u001b[0mmaterials\u001b[0m\u001b[0;34m.\u001b[0m\u001b[0mambient_color\u001b[0m \u001b[0;34m*\u001b[0m \u001b[0mlights\u001b[0m\u001b[0;34m.\u001b[0m\u001b[0mambient_color\u001b[0m\u001b[0;34m\u001b[0m\u001b[0;34m\u001b[0m\u001b[0m\n",
            "\u001b[0;32m/usr/local/lib/python3.7/dist-packages/pytorch3d/renderer/lighting.py\u001b[0m in \u001b[0;36mspecular\u001b[0;34m(self, normals, points, camera_position, shininess)\u001b[0m\n\u001b[1;32m    284\u001b[0m             \u001b[0mdirection\u001b[0m\u001b[0;34m=\u001b[0m\u001b[0mdirection\u001b[0m\u001b[0;34m,\u001b[0m\u001b[0;34m\u001b[0m\u001b[0;34m\u001b[0m\u001b[0m\n\u001b[1;32m    285\u001b[0m             \u001b[0mcamera_position\u001b[0m\u001b[0;34m=\u001b[0m\u001b[0mcamera_position\u001b[0m\u001b[0;34m,\u001b[0m\u001b[0;34m\u001b[0m\u001b[0;34m\u001b[0m\u001b[0m\n\u001b[0;32m--> 286\u001b[0;31m             \u001b[0mshininess\u001b[0m\u001b[0;34m=\u001b[0m\u001b[0mshininess\u001b[0m\u001b[0;34m,\u001b[0m\u001b[0;34m\u001b[0m\u001b[0;34m\u001b[0m\u001b[0m\n\u001b[0m\u001b[1;32m    287\u001b[0m         )\n\u001b[1;32m    288\u001b[0m \u001b[0;34m\u001b[0m\u001b[0m\n",
            "\u001b[0;32m/usr/local/lib/python3.7/dist-packages/pytorch3d/renderer/lighting.py\u001b[0m in \u001b[0;36mspecular\u001b[0;34m(points, normals, direction, color, camera_position, shininess)\u001b[0m\n\u001b[1;32m    130\u001b[0m     \u001b[0mexpand_dims\u001b[0m \u001b[0;34m=\u001b[0m \u001b[0;34m(\u001b[0m\u001b[0;34m-\u001b[0m\u001b[0;36m1\u001b[0m\u001b[0;34m,\u001b[0m\u001b[0;34m)\u001b[0m \u001b[0;34m+\u001b[0m \u001b[0;34m(\u001b[0m\u001b[0;36m1\u001b[0m\u001b[0;34m,\u001b[0m\u001b[0;34m)\u001b[0m \u001b[0;34m*\u001b[0m \u001b[0mlen\u001b[0m\u001b[0;34m(\u001b[0m\u001b[0mpoints_dims\u001b[0m\u001b[0;34m)\u001b[0m\u001b[0;34m\u001b[0m\u001b[0;34m\u001b[0m\u001b[0m\n\u001b[1;32m    131\u001b[0m     \u001b[0;32mif\u001b[0m \u001b[0mdirection\u001b[0m\u001b[0;34m.\u001b[0m\u001b[0mshape\u001b[0m \u001b[0;34m!=\u001b[0m \u001b[0mnormals\u001b[0m\u001b[0;34m.\u001b[0m\u001b[0mshape\u001b[0m\u001b[0;34m:\u001b[0m\u001b[0;34m\u001b[0m\u001b[0;34m\u001b[0m\u001b[0m\n\u001b[0;32m--> 132\u001b[0;31m         \u001b[0mdirection\u001b[0m \u001b[0;34m=\u001b[0m \u001b[0mdirection\u001b[0m\u001b[0;34m.\u001b[0m\u001b[0mview\u001b[0m\u001b[0;34m(\u001b[0m\u001b[0mexpand_dims\u001b[0m \u001b[0;34m+\u001b[0m \u001b[0;34m(\u001b[0m\u001b[0;36m3\u001b[0m\u001b[0;34m,\u001b[0m\u001b[0;34m)\u001b[0m\u001b[0;34m)\u001b[0m\u001b[0;34m\u001b[0m\u001b[0;34m\u001b[0m\u001b[0m\n\u001b[0m\u001b[1;32m    133\u001b[0m     \u001b[0;32mif\u001b[0m \u001b[0mcolor\u001b[0m\u001b[0;34m.\u001b[0m\u001b[0mshape\u001b[0m \u001b[0;34m!=\u001b[0m \u001b[0mnormals\u001b[0m\u001b[0;34m.\u001b[0m\u001b[0mshape\u001b[0m\u001b[0;34m:\u001b[0m\u001b[0;34m\u001b[0m\u001b[0;34m\u001b[0m\u001b[0m\n\u001b[1;32m    134\u001b[0m         \u001b[0mcolor\u001b[0m \u001b[0;34m=\u001b[0m \u001b[0mcolor\u001b[0m\u001b[0;34m.\u001b[0m\u001b[0mview\u001b[0m\u001b[0;34m(\u001b[0m\u001b[0mexpand_dims\u001b[0m \u001b[0;34m+\u001b[0m \u001b[0;34m(\u001b[0m\u001b[0;36m3\u001b[0m\u001b[0;34m,\u001b[0m\u001b[0;34m)\u001b[0m\u001b[0;34m)\u001b[0m\u001b[0;34m\u001b[0m\u001b[0;34m\u001b[0m\u001b[0m\n",
            "\u001b[0;31mRuntimeError\u001b[0m: view size is not compatible with input tensor's size and stride (at least one dimension spans across two contiguous subspaces). Use .reshape(...) instead."
          ]
        }
      ]
    },
    {
      "cell_type": "code",
      "source": [
        "# The batch size represents the number of different viewpoints from which we \n",
        "# want to render the mesh.\n",
        "batch_size = 4\n",
        "\n",
        "# Create a batch of meshes by repeating the capsule mesh and associated textures. \n",
        "# Meshes has a useful `extend` method which allows us do this very easily. \n",
        "meshes = capsule_mesh.extend(batch_size)\n",
        "\n",
        "# Get a batch of viewing angles. \n",
        "elev = torch.linspace(0, 360, batch_size)\n",
        "azim = torch.linspace(-180, 180, batch_size)\n",
        "\n",
        "# All the cameras helper methods support mixed type inputs and broadcasting. So we can \n",
        "# view the camera from the same distance and then specify elevation and azimuth angles \n",
        "# for each viewpoint as tensors. \n",
        "R, T = look_at_view_transform(dist = 3, elev = elev, azim = 0)\n",
        "cameras = FoVPerspectiveCameras(device=device, R=R, T=T)"
      ],
      "metadata": {
        "id": "Xwtbofn_2HpA"
      },
      "execution_count": 91,
      "outputs": []
    },
    {
      "cell_type": "code",
      "source": [
        "# We can pass arbirary keyword arguments to the rasterizer/shader via the renderer\n",
        "# so the renderer does not need to be reinitialized if any of the settings change.\n",
        "images = renderer(meshes, cameras=cameras)"
      ],
      "metadata": {
        "id": "V8mmPB732VHL"
      },
      "execution_count": 92,
      "outputs": []
    },
    {
      "cell_type": "code",
      "source": [
        "len(images)"
      ],
      "metadata": {
        "colab": {
          "base_uri": "https://localhost:8080/"
        },
        "id": "6MaSn4Dw5vvO",
        "outputId": "1cc903e5-b01c-4962-d856-9139af7706ec"
      },
      "execution_count": 85,
      "outputs": [
        {
          "output_type": "execute_result",
          "data": {
            "text/plain": [
              "4"
            ]
          },
          "metadata": {},
          "execution_count": 85
        }
      ]
    },
    {
      "cell_type": "code",
      "source": [
        "images[1]"
      ],
      "metadata": {
        "id": "bP6K5gDXBuMR",
        "outputId": "76200e7b-cd66-4ef9-ec56-2cd82a50ec4a",
        "colab": {
          "base_uri": "https://localhost:8080/"
        }
      },
      "execution_count": 42,
      "outputs": [
        {
          "output_type": "execute_result",
          "data": {
            "text/plain": [
              "tensor([[[1.0000, 1.0000, 1.0000, 0.0000],\n",
              "         [1.0000, 1.0000, 1.0000, 0.0000],\n",
              "         [1.0000, 1.0000, 1.0000, 0.0000],\n",
              "         ...,\n",
              "         [1.0000, 1.0000, 1.0000, 0.0000],\n",
              "         [1.0000, 1.0000, 1.0000, 0.0000],\n",
              "         [1.0000, 1.0000, 1.0000, 0.0000]],\n",
              "\n",
              "        [[1.0000, 1.0000, 1.0000, 0.0000],\n",
              "         [1.0000, 1.0000, 1.0000, 0.0000],\n",
              "         [1.0000, 1.0000, 1.0000, 0.0000],\n",
              "         ...,\n",
              "         [1.0000, 1.0000, 1.0000, 0.0000],\n",
              "         [1.0000, 1.0000, 1.0000, 0.0000],\n",
              "         [1.0000, 1.0000, 1.0000, 0.0000]],\n",
              "\n",
              "        [[1.0000, 1.0000, 1.0000, 0.0000],\n",
              "         [1.0000, 1.0000, 1.0000, 0.0000],\n",
              "         [1.0000, 1.0000, 1.0000, 0.0000],\n",
              "         ...,\n",
              "         [1.0000, 1.0000, 1.0000, 0.0000],\n",
              "         [1.0000, 1.0000, 1.0000, 0.0000],\n",
              "         [1.0000, 1.0000, 1.0000, 0.0000]],\n",
              "\n",
              "        ...,\n",
              "\n",
              "        [[0.5000, 0.5000, 0.5000, 0.5001],\n",
              "         [0.5000, 0.5000, 0.5000, 0.5013],\n",
              "         [0.5000, 0.5000, 0.5000, 0.5037],\n",
              "         ...,\n",
              "         [1.0000, 1.0000, 1.0000, 0.0000],\n",
              "         [1.0000, 1.0000, 1.0000, 0.0000],\n",
              "         [1.0000, 1.0000, 1.0000, 0.0000]],\n",
              "\n",
              "        [[0.5000, 0.5000, 0.5000, 0.5069],\n",
              "         [0.5000, 0.5000, 0.5000, 0.5034],\n",
              "         [0.5000, 0.5000, 0.5000, 0.5011],\n",
              "         ...,\n",
              "         [1.0000, 1.0000, 1.0000, 0.0000],\n",
              "         [1.0000, 1.0000, 1.0000, 0.0000],\n",
              "         [1.0000, 1.0000, 1.0000, 0.0000]],\n",
              "\n",
              "        [[0.7524, 0.7524, 0.7524, 0.5315],\n",
              "         [0.7525, 0.7525, 0.7525, 0.5233],\n",
              "         [0.7527, 0.7527, 0.7527, 0.5163],\n",
              "         ...,\n",
              "         [1.0000, 1.0000, 1.0000, 0.0000],\n",
              "         [1.0000, 1.0000, 1.0000, 0.0000],\n",
              "         [1.0000, 1.0000, 1.0000, 0.0000]]], device='cuda:0')"
            ]
          },
          "metadata": {},
          "execution_count": 42
        }
      ]
    },
    {
      "cell_type": "code",
      "source": [
        "type(images[0])"
      ],
      "metadata": {
        "id": "0yaXgWqjCBBk",
        "outputId": "c0939af0-77fe-4541-fe1e-dea7cbdb8574",
        "colab": {
          "base_uri": "https://localhost:8080/"
        }
      },
      "execution_count": 45,
      "outputs": [
        {
          "output_type": "execute_result",
          "data": {
            "text/plain": [
              "torch.Tensor"
            ]
          },
          "metadata": {},
          "execution_count": 45
        }
      ]
    },
    {
      "cell_type": "code",
      "source": [
        "# The batch size represents the number of different viewpoints from which we \n",
        "# want to render the mesh.\n",
        "batch_size = 36\n",
        "\n",
        "# Create a batch of meshes by repeating the capsule mesh and associated textures. \n",
        "# Meshes has a useful `extend` method which allows us do this very easily. \n",
        "meshes = capsule_mesh.extend(batch_size)\n",
        "\n",
        "# Get a batch of viewing angles. \n",
        "elev = torch.linspace(0, 360, batch_size)\n",
        "azim = torch.linspace(-180, 180, batch_size)\n",
        "\n",
        "# All the cameras helper methods support mixed type inputs and broadcasting. So we can \n",
        "# view the camera from the same distance and then specify elevation and azimuth angles \n",
        "# for each viewpoint as tensors. \n",
        "R, T = look_at_view_transform(dist = 3, elev = elev, azim = 0)\n",
        "cameras = FoVPerspectiveCameras(device=device, R=R, T=T)\n",
        "# We can pass arbirary keyword arguments to the rasterizer/shader via the renderer\n",
        "# so the renderer does not need to be reinitialized if any of the settings change.\n",
        "images = renderer(meshes, cameras=cameras)"
      ],
      "metadata": {
        "id": "1RRqc6QwHx-Q",
        "outputId": "dc647488-cc67-41c3-a468-c6a26c248903",
        "colab": {
          "base_uri": "https://localhost:8080/",
          "height": 397
        }
      },
      "execution_count": 125,
      "outputs": [
        {
          "output_type": "error",
          "ename": "RuntimeError",
          "evalue": "ignored",
          "traceback": [
            "\u001b[0;31m---------------------------------------------------------------------------\u001b[0m",
            "\u001b[0;31mRuntimeError\u001b[0m                              Traceback (most recent call last)",
            "\u001b[0;32m<ipython-input-125-b883be6f7c13>\u001b[0m in \u001b[0;36m<module>\u001b[0;34m()\u001b[0m\n\u001b[1;32m      5\u001b[0m \u001b[0;31m# Create a batch of meshes by repeating the capsule mesh and associated textures.\u001b[0m\u001b[0;34m\u001b[0m\u001b[0;34m\u001b[0m\u001b[0;34m\u001b[0m\u001b[0m\n\u001b[1;32m      6\u001b[0m \u001b[0;31m# Meshes has a useful `extend` method which allows us do this very easily.\u001b[0m\u001b[0;34m\u001b[0m\u001b[0;34m\u001b[0m\u001b[0;34m\u001b[0m\u001b[0m\n\u001b[0;32m----> 7\u001b[0;31m \u001b[0mmeshes\u001b[0m \u001b[0;34m=\u001b[0m \u001b[0mcapsule_mesh\u001b[0m\u001b[0;34m.\u001b[0m\u001b[0mextend\u001b[0m\u001b[0;34m(\u001b[0m\u001b[0mbatch_size\u001b[0m\u001b[0;34m)\u001b[0m\u001b[0;34m\u001b[0m\u001b[0;34m\u001b[0m\u001b[0m\n\u001b[0m\u001b[1;32m      8\u001b[0m \u001b[0;34m\u001b[0m\u001b[0m\n\u001b[1;32m      9\u001b[0m \u001b[0;31m# Get a batch of viewing angles.\u001b[0m\u001b[0;34m\u001b[0m\u001b[0;34m\u001b[0m\u001b[0;34m\u001b[0m\u001b[0m\n",
            "\u001b[0;32m/usr/local/lib/python3.7/dist-packages/pytorch3d/structures/meshes.py\u001b[0m in \u001b[0;36mextend\u001b[0;34m(self, N)\u001b[0m\n\u001b[1;32m   1535\u001b[0m         \u001b[0mtex\u001b[0m \u001b[0;34m=\u001b[0m \u001b[0;32mNone\u001b[0m\u001b[0;34m\u001b[0m\u001b[0;34m\u001b[0m\u001b[0m\n\u001b[1;32m   1536\u001b[0m         \u001b[0;32mif\u001b[0m \u001b[0mself\u001b[0m\u001b[0;34m.\u001b[0m\u001b[0mtextures\u001b[0m \u001b[0;32mis\u001b[0m \u001b[0;32mnot\u001b[0m \u001b[0;32mNone\u001b[0m\u001b[0;34m:\u001b[0m\u001b[0;34m\u001b[0m\u001b[0;34m\u001b[0m\u001b[0m\n\u001b[0;32m-> 1537\u001b[0;31m             \u001b[0mtex\u001b[0m \u001b[0;34m=\u001b[0m \u001b[0mself\u001b[0m\u001b[0;34m.\u001b[0m\u001b[0mtextures\u001b[0m\u001b[0;34m.\u001b[0m\u001b[0mextend\u001b[0m\u001b[0;34m(\u001b[0m\u001b[0mN\u001b[0m\u001b[0;34m)\u001b[0m\u001b[0;34m\u001b[0m\u001b[0;34m\u001b[0m\u001b[0m\n\u001b[0m\u001b[1;32m   1538\u001b[0m \u001b[0;34m\u001b[0m\u001b[0m\n\u001b[1;32m   1539\u001b[0m         \u001b[0;32mreturn\u001b[0m \u001b[0mself\u001b[0m\u001b[0;34m.\u001b[0m\u001b[0m__class__\u001b[0m\u001b[0;34m(\u001b[0m\u001b[0mverts\u001b[0m\u001b[0;34m=\u001b[0m\u001b[0mnew_verts_list\u001b[0m\u001b[0;34m,\u001b[0m \u001b[0mfaces\u001b[0m\u001b[0;34m=\u001b[0m\u001b[0mnew_faces_list\u001b[0m\u001b[0;34m,\u001b[0m \u001b[0mtextures\u001b[0m\u001b[0;34m=\u001b[0m\u001b[0mtex\u001b[0m\u001b[0;34m)\u001b[0m\u001b[0;34m\u001b[0m\u001b[0;34m\u001b[0m\u001b[0m\n",
            "\u001b[0;32m/usr/local/lib/python3.7/dist-packages/pytorch3d/renderer/mesh/textures.py\u001b[0m in \u001b[0;36mextend\u001b[0;34m(self, N)\u001b[0m\n\u001b[1;32m    468\u001b[0m \u001b[0;34m\u001b[0m\u001b[0m\n\u001b[1;32m    469\u001b[0m     \u001b[0;32mdef\u001b[0m \u001b[0mextend\u001b[0m\u001b[0;34m(\u001b[0m\u001b[0mself\u001b[0m\u001b[0;34m,\u001b[0m \u001b[0mN\u001b[0m\u001b[0;34m:\u001b[0m \u001b[0mint\u001b[0m\u001b[0;34m)\u001b[0m \u001b[0;34m->\u001b[0m \u001b[0;34m\"TexturesAtlas\"\u001b[0m\u001b[0;34m:\u001b[0m\u001b[0;34m\u001b[0m\u001b[0;34m\u001b[0m\u001b[0m\n\u001b[0;32m--> 470\u001b[0;31m         \u001b[0mnew_props\u001b[0m \u001b[0;34m=\u001b[0m \u001b[0mself\u001b[0m\u001b[0;34m.\u001b[0m\u001b[0m_extend\u001b[0m\u001b[0;34m(\u001b[0m\u001b[0mN\u001b[0m\u001b[0;34m,\u001b[0m \u001b[0;34m[\u001b[0m\u001b[0;34m\"atlas_padded\"\u001b[0m\u001b[0;34m,\u001b[0m \u001b[0;34m\"_num_faces_per_mesh\"\u001b[0m\u001b[0;34m]\u001b[0m\u001b[0;34m)\u001b[0m\u001b[0;34m\u001b[0m\u001b[0;34m\u001b[0m\u001b[0m\n\u001b[0m\u001b[1;32m    471\u001b[0m         \u001b[0mnew_tex\u001b[0m \u001b[0;34m=\u001b[0m \u001b[0mself\u001b[0m\u001b[0;34m.\u001b[0m\u001b[0m__class__\u001b[0m\u001b[0;34m(\u001b[0m\u001b[0matlas\u001b[0m\u001b[0;34m=\u001b[0m\u001b[0mnew_props\u001b[0m\u001b[0;34m[\u001b[0m\u001b[0;34m\"atlas_padded\"\u001b[0m\u001b[0;34m]\u001b[0m\u001b[0;34m)\u001b[0m\u001b[0;34m\u001b[0m\u001b[0;34m\u001b[0m\u001b[0m\n\u001b[1;32m    472\u001b[0m         \u001b[0mnew_tex\u001b[0m\u001b[0;34m.\u001b[0m\u001b[0m_num_faces_per_mesh\u001b[0m \u001b[0;34m=\u001b[0m \u001b[0mnew_props\u001b[0m\u001b[0;34m[\u001b[0m\u001b[0;34m\"_num_faces_per_mesh\"\u001b[0m\u001b[0;34m]\u001b[0m\u001b[0;34m\u001b[0m\u001b[0;34m\u001b[0m\u001b[0m\n",
            "\u001b[0;32m/usr/local/lib/python3.7/dist-packages/pytorch3d/renderer/mesh/textures.py\u001b[0m in \u001b[0;36m_extend\u001b[0;34m(self, N, props)\u001b[0m\n\u001b[1;32m    195\u001b[0m                 \u001b[0mnew_props\u001b[0m\u001b[0;34m[\u001b[0m\u001b[0mp\u001b[0m\u001b[0;34m]\u001b[0m \u001b[0;34m=\u001b[0m \u001b[0mlist\u001b[0m\u001b[0;34m(\u001b[0m\u001b[0mitertools\u001b[0m\u001b[0;34m.\u001b[0m\u001b[0mchain\u001b[0m\u001b[0;34m(\u001b[0m\u001b[0;34m*\u001b[0m\u001b[0mt\u001b[0m\u001b[0;34m)\u001b[0m\u001b[0;34m)\u001b[0m\u001b[0;34m\u001b[0m\u001b[0;34m\u001b[0m\u001b[0m\n\u001b[1;32m    196\u001b[0m             \u001b[0;32melif\u001b[0m \u001b[0mtorch\u001b[0m\u001b[0;34m.\u001b[0m\u001b[0mis_tensor\u001b[0m\u001b[0;34m(\u001b[0m\u001b[0mt\u001b[0m\u001b[0;34m)\u001b[0m\u001b[0;34m:\u001b[0m\u001b[0;34m\u001b[0m\u001b[0;34m\u001b[0m\u001b[0m\n\u001b[0;32m--> 197\u001b[0;31m                 \u001b[0mnew_props\u001b[0m\u001b[0;34m[\u001b[0m\u001b[0mp\u001b[0m\u001b[0;34m]\u001b[0m \u001b[0;34m=\u001b[0m \u001b[0mt\u001b[0m\u001b[0;34m.\u001b[0m\u001b[0mrepeat_interleave\u001b[0m\u001b[0;34m(\u001b[0m\u001b[0mN\u001b[0m\u001b[0;34m,\u001b[0m \u001b[0mdim\u001b[0m\u001b[0;34m=\u001b[0m\u001b[0;36m0\u001b[0m\u001b[0;34m)\u001b[0m\u001b[0;34m\u001b[0m\u001b[0;34m\u001b[0m\u001b[0m\n\u001b[0m\u001b[1;32m    198\u001b[0m         \u001b[0;32mreturn\u001b[0m \u001b[0mnew_props\u001b[0m\u001b[0;34m\u001b[0m\u001b[0;34m\u001b[0m\u001b[0m\n\u001b[1;32m    199\u001b[0m \u001b[0;34m\u001b[0m\u001b[0m\n",
            "\u001b[0;31mRuntimeError\u001b[0m: CUDA out of memory. Tried to allocate 1.24 GiB (GPU 0; 11.17 GiB total capacity; 8.82 GiB already allocated; 506.94 MiB free; 10.03 GiB reserved in total by PyTorch) If reserved memory is >> allocated memory try setting max_split_size_mb to avoid fragmentation.  See documentation for Memory Management and PYTORCH_CUDA_ALLOC_CONF"
          ]
        }
      ]
    },
    {
      "cell_type": "code",
      "source": [
        "plt.figure(figsize=(10, 10))\n",
        "for i in list(range(36)) :\n",
        "  plt.subplot(6,6,i+1)\n",
        "  plt.imshow(images[i].cpu().numpy())\n",
        "  plt.grid(\"off\");\n",
        "  plt.axis(\"off\");\n",
        "  plt.title(i)\n",
        "plt.show()"
      ],
      "metadata": {
        "colab": {
          "base_uri": "https://localhost:8080/",
          "height": 591
        },
        "id": "aqLaUIAD3zgm",
        "outputId": "19955767-2155-43f4-accd-a1cbb18d767f"
      },
      "execution_count": 120,
      "outputs": [
        {
          "output_type": "display_data",
          "data": {
            "image/png": "[encoded data removed]",
            "text/plain": [
              "<Figure size 720x720 with 36 Axes>"
            ]
          },
          "metadata": {
            "needs_background": "light"
          }
        }
      ]
    },
    {
      "cell_type": "code",
      "source": [
        "plt.figure(figsize=(10, 10))\n",
        "for i in list(range(36)) :\n",
        "  plt.subplot(6,6,i+1)\n",
        "  plt.imshow(images[i].cpu().numpy())\n",
        "  plt.grid(\"off\");\n",
        "  plt.axis(\"off\");\n",
        "  plt.title(i)\n",
        "plt.show()"
      ],
      "metadata": {
        "id": "gzmVExI6LwQr"
      },
      "execution_count": null,
      "outputs": []
    },
    {
      "cell_type": "code",
      "source": [
        ""
      ],
      "metadata": {
        "id": "txEVeDStON69"
      },
      "execution_count": null,
      "outputs": []
    }
  ]
}